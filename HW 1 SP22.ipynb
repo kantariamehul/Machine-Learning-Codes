{
 "cells": [
  {
   "cell_type": "markdown",
   "id": "47c0f908",
   "metadata": {},
   "source": [
    "# 1 Matrices and Numpy"
   ]
  },
  {
   "cell_type": "markdown",
   "id": "f9c687c3",
   "metadata": {},
   "source": [
    "## 1.1 Matrices Theory"
   ]
  },
  {
   "cell_type": "markdown",
   "id": "99dcc604",
   "metadata": {},
   "source": [
    "### 1.1.1 Write properties of matrices"
   ]
  },
  {
   "cell_type": "raw",
   "id": "fdd421c7-491e-4735-abcc-f4bc22315291",
   "metadata": {},
   "source": [
    "Matrix has following properies\n",
    "Number of Rows\n",
    "Number of Columns\n",
    "Determinent of the Matrix A = |A|\n",
    "Commutative property of addition A + B = B+ A (A,B Matrix)\n",
    "Associative Property of addition A+ (B + C) = (A + B) + C\n",
    "x (A + B) = xA + xB (x = constant)\n",
    "A*B != B*A\n",
    "a.A + b.A= (a+b).A"
   ]
  },
  {
   "cell_type": "markdown",
   "id": "eb0eeb06",
   "metadata": {},
   "source": [
    "### 1.1.2 Write a python function to get a matrix from user"
   ]
  },
  {
   "cell_type": "code",
   "execution_count": 1,
   "id": "165a30f4-73b1-4bfd-8122-1b531fd5cd97",
   "metadata": {},
   "outputs": [],
   "source": [
    "import numpy as np"
   ]
  },
  {
   "cell_type": "code",
   "execution_count": 2,
   "id": "01bc4298-51d2-487e-acd9-fa21138bec03",
   "metadata": {},
   "outputs": [],
   "source": [
    "def Get_Matrix():\n",
    "    r=int(input(\"Enter number of Rows\"))\n",
    "    c=int(input(\"Enter number of Columns\"))\n",
    "    A=np.zeros((r,c),dtype=np.int64)\n",
    "    for i in range(r):\n",
    "        for j in range(c):\n",
    "            A[i][j]=int(input(\"Enter element row={} and column={} -->\".format(r,c)))\n",
    "    return A"
   ]
  },
  {
   "cell_type": "markdown",
   "id": "1e9509eb",
   "metadata": {},
   "source": [
    "## 1.1.3 Get two matrices from the user and give them names A and B"
   ]
  },
  {
   "cell_type": "code",
   "execution_count": 3,
   "id": "d7591b1f-e62a-4906-9536-fd4cf4b71940",
   "metadata": {},
   "outputs": [
    {
     "name": "stdout",
     "output_type": "stream",
     "text": [
      "Enter number of Rows2\n",
      "Enter number of Columns2\n",
      "Enter element row=2 and column=2 -->1\n",
      "Enter element row=2 and column=2 -->2\n",
      "Enter element row=2 and column=2 -->3\n",
      "Enter element row=2 and column=2 -->4\n",
      "Enter number of Rows2\n",
      "Enter number of Columns2\n",
      "Enter element row=2 and column=2 -->5\n",
      "Enter element row=2 and column=2 -->6\n",
      "Enter element row=2 and column=2 -->7\n",
      "Enter element row=2 and column=2 -->8\n"
     ]
    }
   ],
   "source": [
    "A=Get_Matrix()\n",
    "B=Get_Matrix()"
   ]
  },
  {
   "cell_type": "code",
   "execution_count": 4,
   "id": "930110e7-3849-46fe-ac17-37bc8002c805",
   "metadata": {},
   "outputs": [
    {
     "data": {
      "text/plain": [
       "array([[1, 2],\n",
       "       [3, 4]], dtype=int64)"
      ]
     },
     "execution_count": 4,
     "metadata": {},
     "output_type": "execute_result"
    }
   ],
   "source": [
    "A"
   ]
  },
  {
   "cell_type": "code",
   "execution_count": 5,
   "id": "23b7352a-6776-46da-b749-bd68189c8eee",
   "metadata": {},
   "outputs": [
    {
     "data": {
      "text/plain": [
       "array([[5, 6],\n",
       "       [7, 8]], dtype=int64)"
      ]
     },
     "execution_count": 5,
     "metadata": {},
     "output_type": "execute_result"
    }
   ],
   "source": [
    "B"
   ]
  },
  {
   "cell_type": "markdown",
   "id": "c22f308a",
   "metadata": {},
   "source": [
    "## 1.2 Matrix manipulation without using Numpy"
   ]
  },
  {
   "cell_type": "code",
   "execution_count": 6,
   "id": "da7c9bcb-517c-4708-82c3-ad9b5cfeeb77",
   "metadata": {},
   "outputs": [],
   "source": [
    "def Check_Matrix(A,B):\n",
    "    if(len(A[0])!=len(B)):\n",
    "        raise Exception(\"Matrices can not multiplay as A[columns]!=B[rows]\")\n",
    "    else:\n",
    "       print('Performing Multiplication')"
   ]
  },
  {
   "cell_type": "code",
   "execution_count": 7,
   "id": "e45c31cf-82c7-4e85-90df-7fe793b62ab8",
   "metadata": {},
   "outputs": [],
   "source": [
    "def Matrix_Multi(A,B):\n",
    "    Check_Matrix(A,B)\n",
    "    sum=0\n",
    "    C=np.zeros((len(A),len(B[0])),dtype=np.int32)\n",
    "    #print('x\\ty\\tz\\tA[x][z]\\tB[z][y]\\tsum')\n",
    "    for x in range(len(A)):\n",
    "        for y in range(len(B[0])):\n",
    "            for z in range(len(A[0])):\n",
    "                sum+=A[x][z]*B[z][y]\n",
    "                #print(x,\"\\t\",y,\"\\t\",z,\"\\t\",A[x][z],\"\\t\",B[z][y],\"\\t\",sum)\n",
    "            C[x][y]=sum\n",
    "            sum=0\n",
    "    return C"
   ]
  },
  {
   "cell_type": "code",
   "execution_count": 8,
   "id": "f4d8d7c5-aef2-45b3-8ed9-67ae56fd8437",
   "metadata": {},
   "outputs": [],
   "source": [
    "def Print_Matrix(A):\n",
    "    for i in range(len(A)):\n",
    "        for j in range(len(A[0])):\n",
    "            print(A[i][j],end=\"\\t\")\n",
    "        print(\"\")"
   ]
  },
  {
   "cell_type": "code",
   "execution_count": 9,
   "id": "aea77bef-3b78-463f-9d6f-01639758a34e",
   "metadata": {},
   "outputs": [
    {
     "name": "stdout",
     "output_type": "stream",
     "text": [
      "Performing Multiplication\n",
      "19\t22\t\n",
      "43\t50\t\n"
     ]
    }
   ],
   "source": [
    "Print_Matrix(Matrix_Multi(A,B))"
   ]
  },
  {
   "cell_type": "markdown",
   "id": "9508bb2e",
   "metadata": {},
   "source": [
    "### 1.2.1 Perform A^n (n is a user entered values)"
   ]
  },
  {
   "cell_type": "code",
   "execution_count": 10,
   "id": "6a006d47-79ee-4dbc-93a9-03c0ede60e53",
   "metadata": {},
   "outputs": [
    {
     "name": "stdout",
     "output_type": "stream",
     "text": [
      "Enter value of n for A^n:2\n",
      "Performing Multiplication\n",
      "7\t10\t\n",
      "15\t22\t\n"
     ]
    }
   ],
   "source": [
    "n=int(input(\"Enter value of n for A^n:\"))\n",
    "An=A\n",
    "for i in range(n-1):\n",
    "    An=Matrix_Multi(An,An)\n",
    "\n",
    "Print_Matrix(An)"
   ]
  },
  {
   "cell_type": "markdown",
   "id": "37557ddc",
   "metadata": {},
   "source": [
    "### 1.2.2 Perform A Transpose"
   ]
  },
  {
   "cell_type": "code",
   "execution_count": 11,
   "id": "d45c5f0e-daca-4f82-98ec-5b2a239299cf",
   "metadata": {},
   "outputs": [],
   "source": [
    "def Matrix_Transpose(A):\n",
    "    T=np.zeros((len(A[0]),len(A)))\n",
    "    for i in range(len(A)):\n",
    "        for j in range(len(A[0])):\n",
    "            T[i][j]=A[j][i]\n",
    "    return(T)"
   ]
  },
  {
   "cell_type": "code",
   "execution_count": 12,
   "id": "c181725d-7618-47a4-91da-c4e349a6c720",
   "metadata": {},
   "outputs": [
    {
     "name": "stdout",
     "output_type": "stream",
     "text": [
      "1.0\t3.0\t\n",
      "2.0\t4.0\t\n"
     ]
    }
   ],
   "source": [
    "Print_Matrix(Matrix_Transpose(A))"
   ]
  },
  {
   "cell_type": "markdown",
   "id": "2e25f652",
   "metadata": {},
   "source": [
    "### 1.2.3 Calculate Determinant of A"
   ]
  },
  {
   "cell_type": "markdown",
   "id": "77e91860-c367-4cb5-b418-0546aa85c368",
   "metadata": {},
   "source": [
    "## D=Get_Matrix()"
   ]
  },
  {
   "cell_type": "code",
   "execution_count": 13,
   "id": "aa3a2b06-60c1-42a1-9f65-93247e154dfc",
   "metadata": {},
   "outputs": [],
   "source": [
    "def Minor(Sub_Matrix,i,j):\n",
    "    c = Sub_Matrix[:]\n",
    "    c = np.delete(c,(i),axis=0)\n",
    "    return [np.delete(r,(j),axis=0) for r in (c)]"
   ]
  },
  {
   "cell_type": "code",
   "execution_count": 14,
   "id": "680a7f29-fb3c-40a6-a377-7a5ca6444d26",
   "metadata": {},
   "outputs": [],
   "source": [
    "def Deter_Matrix(D):\n",
    "    n = len(D)\n",
    "    if n == 1 :return D[0][0]\n",
    "    if n == 2 :return D[0][0]*D[1][1] - D[0][1]*D[1][0]\n",
    "    sum = 0\n",
    "    for j in range(0,n):\n",
    "        m = Minor(D,0,j)\n",
    "        sum =sum + ((-1)**j)*D[0][j] * Deter_Matrix(m)\n",
    "    return sum"
   ]
  },
  {
   "cell_type": "code",
   "execution_count": 15,
   "id": "97b0ce3e-8336-4aa7-a5de-3d26f7506a84",
   "metadata": {},
   "outputs": [
    {
     "name": "stdout",
     "output_type": "stream",
     "text": [
      "1\t2\t\n",
      "3\t4\t\n",
      "-2\n"
     ]
    }
   ],
   "source": [
    "Print_Matrix(A)\n",
    "print(Deter_Matrix(A))"
   ]
  },
  {
   "cell_type": "markdown",
   "id": "d82f51f0",
   "metadata": {},
   "source": [
    "### 1.2.4 Calculate A Inverse (If not possible code should give relevant reason)"
   ]
  },
  {
   "cell_type": "code",
   "execution_count": 16,
   "id": "31c51bc9-8210-4add-8e19-09632c605603",
   "metadata": {},
   "outputs": [],
   "source": [
    "def Inverse_Matrix(D):\n",
    "    if (Deter_Matrix(D)==0):\n",
    "        raise Exception(\"Inverse can not be calculates as |D|=0\")\n",
    "    else:\n",
    "        Inv_Matrix=np.zeros((len(D),len(D)),dtype=np.int32)\n",
    "        for i in range(0,len(D)):\n",
    "            for j in range(0,len(D)):\n",
    "                Sub=Minor(D,i,j)\n",
    "                #print(Sub)\n",
    "                Inv_Matrix[i][j]=((-1)**(i+j+1)) * Deter_Matrix(Sub)\n",
    "    #Print_Matrix(Inv_Matrix)\n",
    "    Det_D=Deter_Matrix(D)\n",
    "    #print(Det_D)\n",
    "    Inv_Matrix=Matrix_Transpose(Inv_Matrix)/Det_D\n",
    "    #Print_Matrix(Inv_Matrix)\n",
    "    return Inv_Matrix"
   ]
  },
  {
   "cell_type": "code",
   "execution_count": 17,
   "id": "988e2cf9-6d09-4323-84d4-4d413cdee6fb",
   "metadata": {},
   "outputs": [
    {
     "name": "stdout",
     "output_type": "stream",
     "text": [
      "[[ 2.  -1. ]\n",
      " [-1.5  0.5]]\n"
     ]
    }
   ],
   "source": [
    "print(Inverse_Matrix(A))"
   ]
  },
  {
   "cell_type": "markdown",
   "id": "308f8844",
   "metadata": {},
   "source": [
    "### 1.2.5 Calculate A*B (If not possible, code should give relevant reason)"
   ]
  },
  {
   "cell_type": "code",
   "execution_count": 18,
   "id": "bba5c9f3-6b81-4788-9660-b5cf36a6222c",
   "metadata": {},
   "outputs": [
    {
     "name": "stdout",
     "output_type": "stream",
     "text": [
      "Performing Multiplication\n",
      "19\t22\t\n",
      "43\t50\t\n"
     ]
    }
   ],
   "source": [
    "Print_Matrix(Matrix_Multi(A,B))"
   ]
  },
  {
   "cell_type": "markdown",
   "id": "cfc40ab4",
   "metadata": {},
   "source": [
    "### 1.2.6 Calculate A+B (If not possible, code should give relevant reason)"
   ]
  },
  {
   "cell_type": "code",
   "execution_count": 19,
   "id": "8e579fac-d013-4100-a3ed-dbbf0ab6070e",
   "metadata": {},
   "outputs": [],
   "source": [
    "def Matrix_Add(A,B):\n",
    "    if len(A)!=len(B) or len(A[0])!=len(B[0]):\n",
    "        raise Exception(\"Matrix Dimention must be same for Addition\")\n",
    "    else:\n",
    "        C=np.zeros((len(A),len(A[0])),dtype=np.int32)\n",
    "        for i in range(len(A)):\n",
    "            for j in range(len(B)):\n",
    "                C[i][j]=A[i][j]+B[i][j]\n",
    "        return C"
   ]
  },
  {
   "cell_type": "code",
   "execution_count": 20,
   "id": "c7e02a2a-7920-4d8e-ad13-8d643475e4d1",
   "metadata": {},
   "outputs": [
    {
     "name": "stdout",
     "output_type": "stream",
     "text": [
      "6\t8\t\n",
      "10\t12\t\n"
     ]
    }
   ],
   "source": [
    "Print_Matrix(Matrix_Add(A,B))"
   ]
  },
  {
   "cell_type": "markdown",
   "id": "f61c91ab",
   "metadata": {},
   "source": [
    "## 1.3 Matrix manipulation using Numpy\n"
   ]
  },
  {
   "cell_type": "markdown",
   "id": "07374ed1",
   "metadata": {},
   "source": [
    "### 1.3.1 Perform all the operations in the previous question using Numpy"
   ]
  },
  {
   "cell_type": "code",
   "execution_count": 21,
   "id": "f1ff42b6-3534-4bc5-bdda-234e02ef9275",
   "metadata": {},
   "outputs": [
    {
     "data": {
      "text/plain": [
       "array([[ 5, 12],\n",
       "       [21, 32]], dtype=int64)"
      ]
     },
     "execution_count": 21,
     "metadata": {},
     "output_type": "execute_result"
    }
   ],
   "source": [
    "A*B"
   ]
  },
  {
   "cell_type": "markdown",
   "id": "68858b57",
   "metadata": {
    "tags": []
   },
   "source": [
    "### 1.3.2 Perform following operations in Numpy: Reduced Mean, Reduced Sum, Argmax, Zip and One Hot Encoding"
   ]
  },
  {
   "cell_type": "code",
   "execution_count": 22,
   "id": "d5e4ecd1-3edf-4050-b2c6-e5e0befebeb8",
   "metadata": {},
   "outputs": [
    {
     "data": {
      "text/plain": [
       "2.5"
      ]
     },
     "execution_count": 22,
     "metadata": {},
     "output_type": "execute_result"
    }
   ],
   "source": [
    "A.mean()"
   ]
  },
  {
   "cell_type": "code",
   "execution_count": 23,
   "id": "e08a1ae8-badf-4421-8f04-01ba806a05c9",
   "metadata": {},
   "outputs": [
    {
     "data": {
      "text/plain": [
       "array([2., 3.])"
      ]
     },
     "execution_count": 23,
     "metadata": {},
     "output_type": "execute_result"
    }
   ],
   "source": [
    "A.mean(0)"
   ]
  },
  {
   "cell_type": "code",
   "execution_count": 24,
   "id": "6e714600-85be-44ce-80be-24770c25435f",
   "metadata": {},
   "outputs": [
    {
     "data": {
      "text/plain": [
       "array([1.5, 3.5])"
      ]
     },
     "execution_count": 24,
     "metadata": {},
     "output_type": "execute_result"
    }
   ],
   "source": [
    "A.mean(1)"
   ]
  },
  {
   "cell_type": "code",
   "execution_count": 25,
   "id": "2fe44961-67d3-475d-8356-e57810468df7",
   "metadata": {},
   "outputs": [
    {
     "data": {
      "text/plain": [
       "10"
      ]
     },
     "execution_count": 25,
     "metadata": {},
     "output_type": "execute_result"
    }
   ],
   "source": [
    "A.sum()"
   ]
  },
  {
   "cell_type": "code",
   "execution_count": 26,
   "id": "38a0e0f6-ac62-4d33-82f6-50b8366de40c",
   "metadata": {},
   "outputs": [
    {
     "data": {
      "text/plain": [
       "array([4, 6], dtype=int64)"
      ]
     },
     "execution_count": 26,
     "metadata": {},
     "output_type": "execute_result"
    }
   ],
   "source": [
    "A.sum(0)"
   ]
  },
  {
   "cell_type": "code",
   "execution_count": 27,
   "id": "1a555404-e7ae-496a-9d37-a7181770fcd4",
   "metadata": {},
   "outputs": [
    {
     "data": {
      "text/plain": [
       "array([3, 7], dtype=int64)"
      ]
     },
     "execution_count": 27,
     "metadata": {},
     "output_type": "execute_result"
    }
   ],
   "source": [
    "A.sum(1)"
   ]
  },
  {
   "cell_type": "code",
   "execution_count": 28,
   "id": "537db209-f6d4-4103-897b-5b342d7f6889",
   "metadata": {},
   "outputs": [
    {
     "data": {
      "text/plain": [
       "3"
      ]
     },
     "execution_count": 28,
     "metadata": {},
     "output_type": "execute_result"
    }
   ],
   "source": [
    "A.argmax()"
   ]
  },
  {
   "cell_type": "code",
   "execution_count": 29,
   "id": "95b13b78-6052-4194-aa47-f07e98957bdb",
   "metadata": {},
   "outputs": [
    {
     "data": {
      "text/plain": [
       "array([1, 1], dtype=int64)"
      ]
     },
     "execution_count": 29,
     "metadata": {},
     "output_type": "execute_result"
    }
   ],
   "source": [
    "A.argmax(0)"
   ]
  },
  {
   "cell_type": "code",
   "execution_count": 30,
   "id": "aa85847a-ffd6-4f72-be86-354f3cb523e2",
   "metadata": {},
   "outputs": [
    {
     "data": {
      "text/plain": [
       "array([1, 1], dtype=int64)"
      ]
     },
     "execution_count": 30,
     "metadata": {},
     "output_type": "execute_result"
    }
   ],
   "source": [
    "A.argmax(1)"
   ]
  },
  {
   "cell_type": "code",
   "execution_count": 31,
   "id": "af67e4a1-4991-4ca3-93a9-81fc285f1bd4",
   "metadata": {},
   "outputs": [
    {
     "name": "stdout",
     "output_type": "stream",
     "text": [
      "[(array([1, 2], dtype=int64), array([5, 6], dtype=int64)), (array([3, 4], dtype=int64), array([7, 8], dtype=int64))]\n"
     ]
    }
   ],
   "source": [
    "print(list(zip(A,B)))"
   ]
  },
  {
   "cell_type": "code",
   "execution_count": 32,
   "id": "ea7fc960-057a-4b8d-84f2-04c6b1bc89f7",
   "metadata": {},
   "outputs": [
    {
     "name": "stdout",
     "output_type": "stream",
     "text": [
      "Given Matrix\n",
      " [[1 2]\n",
      " [3 4]]\n",
      "Equivalent Array\n",
      " [[1 2 3 4]]\n",
      "One Hot Encoding\n",
      " [[0. 1. 0. 0. 0.]\n",
      " [0. 0. 1. 0. 0.]\n",
      " [0. 0. 0. 1. 0.]\n",
      " [0. 0. 0. 0. 1.]]\n"
     ]
    }
   ],
   "source": [
    "print('Given Matrix\\n',A)\n",
    "Arr=A.reshape(1,-1)\n",
    "print('Equivalent Array\\n',Arr)\n",
    "shape = (A.size, A.max()+1)\n",
    "one_hot = np.zeros(shape)\n",
    "rows = np.arange(Arr.size)\n",
    "one_hot[rows,Arr] = 1\n",
    "print('One Hot Encoding\\n',one_hot)"
   ]
  },
  {
   "cell_type": "markdown",
   "id": "625e59f7",
   "metadata": {},
   "source": [
    "# 2 Pandas"
   ]
  },
  {
   "cell_type": "markdown",
   "id": "6f63d216",
   "metadata": {},
   "source": [
    "## 2.1 read a csv data to pandas dataframe (data 1)"
   ]
  },
  {
   "cell_type": "markdown",
   "id": "ed00daa4",
   "metadata": {},
   "source": [
    "## 2.2 Demonstrate any 5 functions from the following link on the loaded dataset\n",
    "\n",
    "https://pandas.pydata.org/docs/reference/general_functions.html"
   ]
  },
  {
   "cell_type": "code",
   "execution_count": 33,
   "id": "fa4c8ba1-42b3-477d-b5c4-6b33058a52f8",
   "metadata": {},
   "outputs": [
    {
     "data": {
      "text/html": [
       "<div>\n",
       "<style scoped>\n",
       "    .dataframe tbody tr th:only-of-type {\n",
       "        vertical-align: middle;\n",
       "    }\n",
       "\n",
       "    .dataframe tbody tr th {\n",
       "        vertical-align: top;\n",
       "    }\n",
       "\n",
       "    .dataframe thead th {\n",
       "        text-align: right;\n",
       "    }\n",
       "</style>\n",
       "<table border=\"1\" class=\"dataframe\">\n",
       "  <thead>\n",
       "    <tr style=\"text-align: right;\">\n",
       "      <th></th>\n",
       "      <th>Value 1</th>\n",
       "      <th>Value 2</th>\n",
       "    </tr>\n",
       "  </thead>\n",
       "  <tbody>\n",
       "    <tr>\n",
       "      <th>0</th>\n",
       "      <td>-0.752400</td>\n",
       "      <td>-1.992827</td>\n",
       "    </tr>\n",
       "    <tr>\n",
       "      <th>1</th>\n",
       "      <td>-0.702025</td>\n",
       "      <td>-1.935445</td>\n",
       "    </tr>\n",
       "    <tr>\n",
       "      <th>2</th>\n",
       "      <td>0.058185</td>\n",
       "      <td>-1.020321</td>\n",
       "    </tr>\n",
       "    <tr>\n",
       "      <th>3</th>\n",
       "      <td>-0.097662</td>\n",
       "      <td>-1.857889</td>\n",
       "    </tr>\n",
       "    <tr>\n",
       "      <th>4</th>\n",
       "      <td>-0.369050</td>\n",
       "      <td>0.209050</td>\n",
       "    </tr>\n",
       "  </tbody>\n",
       "</table>\n",
       "</div>"
      ],
      "text/plain": [
       "    Value 1   Value 2\n",
       "0 -0.752400 -1.992827\n",
       "1 -0.702025 -1.935445\n",
       "2  0.058185 -1.020321\n",
       "3 -0.097662 -1.857889\n",
       "4 -0.369050  0.209050"
      ]
     },
     "execution_count": 33,
     "metadata": {},
     "output_type": "execute_result"
    }
   ],
   "source": [
    "import pandas as pd\n",
    "Data_1=pd.read_csv(\"data_1.csv\",names=[\"Value 1\", \"Value 2\"])\n",
    "Data_1.head()"
   ]
  },
  {
   "cell_type": "code",
   "execution_count": 34,
   "id": "6a2bc756-a18c-498a-bd92-164597c2b997",
   "metadata": {},
   "outputs": [
    {
     "data": {
      "text/plain": [
       "True"
      ]
     },
     "execution_count": 34,
     "metadata": {},
     "output_type": "execute_result"
    }
   ],
   "source": [
    "pd.isna(pd.NA)"
   ]
  },
  {
   "cell_type": "code",
   "execution_count": 35,
   "id": "b77edc75-86ab-4e0c-a8f0-2c3cb6ccedb0",
   "metadata": {},
   "outputs": [
    {
     "data": {
      "text/plain": [
       "True"
      ]
     },
     "execution_count": 35,
     "metadata": {},
     "output_type": "execute_result"
    }
   ],
   "source": [
    "pd.isna(np.nan)"
   ]
  },
  {
   "cell_type": "code",
   "execution_count": 36,
   "id": "26abd88c-d763-40b0-8b80-557fb65b725f",
   "metadata": {},
   "outputs": [
    {
     "data": {
      "text/plain": [
       "False"
      ]
     },
     "execution_count": 36,
     "metadata": {},
     "output_type": "execute_result"
    }
   ],
   "source": [
    "pd.notna(pd.NA)"
   ]
  },
  {
   "cell_type": "code",
   "execution_count": 37,
   "id": "aad38785-d980-4a7b-8c9b-80af8dc23449",
   "metadata": {},
   "outputs": [
    {
     "data": {
      "text/plain": [
       "False"
      ]
     },
     "execution_count": 37,
     "metadata": {},
     "output_type": "execute_result"
    }
   ],
   "source": [
    "pd.notna(np.nan)"
   ]
  },
  {
   "cell_type": "code",
   "execution_count": 38,
   "id": "05f15ada-b9d9-4c26-a9e2-f7a7574ab580",
   "metadata": {},
   "outputs": [
    {
     "data": {
      "text/html": [
       "<div>\n",
       "<style scoped>\n",
       "    .dataframe tbody tr th:only-of-type {\n",
       "        vertical-align: middle;\n",
       "    }\n",
       "\n",
       "    .dataframe tbody tr th {\n",
       "        vertical-align: top;\n",
       "    }\n",
       "\n",
       "    .dataframe thead th {\n",
       "        text-align: right;\n",
       "    }\n",
       "</style>\n",
       "<table border=\"1\" class=\"dataframe\">\n",
       "  <thead>\n",
       "    <tr style=\"text-align: right;\">\n",
       "      <th></th>\n",
       "      <th>Value 1</th>\n",
       "      <th>variable</th>\n",
       "      <th>value</th>\n",
       "    </tr>\n",
       "  </thead>\n",
       "  <tbody>\n",
       "    <tr>\n",
       "      <th>0</th>\n",
       "      <td>-0.752400</td>\n",
       "      <td>Value 2</td>\n",
       "      <td>-1.992827</td>\n",
       "    </tr>\n",
       "    <tr>\n",
       "      <th>1</th>\n",
       "      <td>-0.702025</td>\n",
       "      <td>Value 2</td>\n",
       "      <td>-1.935445</td>\n",
       "    </tr>\n",
       "    <tr>\n",
       "      <th>2</th>\n",
       "      <td>0.058185</td>\n",
       "      <td>Value 2</td>\n",
       "      <td>-1.020321</td>\n",
       "    </tr>\n",
       "    <tr>\n",
       "      <th>3</th>\n",
       "      <td>-0.097662</td>\n",
       "      <td>Value 2</td>\n",
       "      <td>-1.857889</td>\n",
       "    </tr>\n",
       "    <tr>\n",
       "      <th>4</th>\n",
       "      <td>-0.369050</td>\n",
       "      <td>Value 2</td>\n",
       "      <td>0.209050</td>\n",
       "    </tr>\n",
       "    <tr>\n",
       "      <th>...</th>\n",
       "      <td>...</td>\n",
       "      <td>...</td>\n",
       "      <td>...</td>\n",
       "    </tr>\n",
       "    <tr>\n",
       "      <th>9995</th>\n",
       "      <td>0.106437</td>\n",
       "      <td>Value 2</td>\n",
       "      <td>-1.723467</td>\n",
       "    </tr>\n",
       "    <tr>\n",
       "      <th>9996</th>\n",
       "      <td>-0.535412</td>\n",
       "      <td>Value 2</td>\n",
       "      <td>-2.009323</td>\n",
       "    </tr>\n",
       "    <tr>\n",
       "      <th>9997</th>\n",
       "      <td>1.358514</td>\n",
       "      <td>Value 2</td>\n",
       "      <td>4.867444</td>\n",
       "    </tr>\n",
       "    <tr>\n",
       "      <th>9998</th>\n",
       "      <td>0.668055</td>\n",
       "      <td>Value 2</td>\n",
       "      <td>2.753525</td>\n",
       "    </tr>\n",
       "    <tr>\n",
       "      <th>9999</th>\n",
       "      <td>0.190843</td>\n",
       "      <td>Value 2</td>\n",
       "      <td>2.156421</td>\n",
       "    </tr>\n",
       "  </tbody>\n",
       "</table>\n",
       "<p>10000 rows × 3 columns</p>\n",
       "</div>"
      ],
      "text/plain": [
       "       Value 1 variable     value\n",
       "0    -0.752400  Value 2 -1.992827\n",
       "1    -0.702025  Value 2 -1.935445\n",
       "2     0.058185  Value 2 -1.020321\n",
       "3    -0.097662  Value 2 -1.857889\n",
       "4    -0.369050  Value 2  0.209050\n",
       "...        ...      ...       ...\n",
       "9995  0.106437  Value 2 -1.723467\n",
       "9996 -0.535412  Value 2 -2.009323\n",
       "9997  1.358514  Value 2  4.867444\n",
       "9998  0.668055  Value 2  2.753525\n",
       "9999  0.190843  Value 2  2.156421\n",
       "\n",
       "[10000 rows x 3 columns]"
      ]
     },
     "execution_count": 38,
     "metadata": {},
     "output_type": "execute_result"
    }
   ],
   "source": [
    "pd.melt(Data_1, id_vars=['Value 1'], value_vars=['Value 2'])"
   ]
  },
  {
   "cell_type": "code",
   "execution_count": 39,
   "id": "18651dfd-62a2-48e2-9270-6940fcf9dcf0",
   "metadata": {},
   "outputs": [
    {
     "data": {
      "text/html": [
       "<div>\n",
       "<style scoped>\n",
       "    .dataframe tbody tr th:only-of-type {\n",
       "        vertical-align: middle;\n",
       "    }\n",
       "\n",
       "    .dataframe tbody tr th {\n",
       "        vertical-align: top;\n",
       "    }\n",
       "\n",
       "    .dataframe thead th {\n",
       "        text-align: right;\n",
       "    }\n",
       "</style>\n",
       "<table border=\"1\" class=\"dataframe\">\n",
       "  <thead>\n",
       "    <tr style=\"text-align: right;\">\n",
       "      <th>Value 2</th>\n",
       "      <th>-13.892867</th>\n",
       "      <th>-11.327178</th>\n",
       "      <th>-10.474207</th>\n",
       "      <th>-10.180503</th>\n",
       "      <th>-10.164034</th>\n",
       "      <th>-10.144762</th>\n",
       "      <th>-9.999708</th>\n",
       "      <th>-9.798856</th>\n",
       "      <th>-9.624723</th>\n",
       "      <th>-9.544635</th>\n",
       "      <th>...</th>\n",
       "      <th>9.572446</th>\n",
       "      <th>9.620763</th>\n",
       "      <th>9.685988</th>\n",
       "      <th>9.726477</th>\n",
       "      <th>9.799602</th>\n",
       "      <th>10.180504</th>\n",
       "      <th>10.973201</th>\n",
       "      <th>11.655695</th>\n",
       "      <th>12.152760</th>\n",
       "      <th>12.279487</th>\n",
       "    </tr>\n",
       "    <tr>\n",
       "      <th>Value 1</th>\n",
       "      <th></th>\n",
       "      <th></th>\n",
       "      <th></th>\n",
       "      <th></th>\n",
       "      <th></th>\n",
       "      <th></th>\n",
       "      <th></th>\n",
       "      <th></th>\n",
       "      <th></th>\n",
       "      <th></th>\n",
       "      <th></th>\n",
       "      <th></th>\n",
       "      <th></th>\n",
       "      <th></th>\n",
       "      <th></th>\n",
       "      <th></th>\n",
       "      <th></th>\n",
       "      <th></th>\n",
       "      <th></th>\n",
       "      <th></th>\n",
       "      <th></th>\n",
       "    </tr>\n",
       "  </thead>\n",
       "  <tbody>\n",
       "    <tr>\n",
       "      <th>-3.949464</th>\n",
       "      <td>-13.892867</td>\n",
       "      <td>NaN</td>\n",
       "      <td>NaN</td>\n",
       "      <td>NaN</td>\n",
       "      <td>NaN</td>\n",
       "      <td>NaN</td>\n",
       "      <td>NaN</td>\n",
       "      <td>NaN</td>\n",
       "      <td>NaN</td>\n",
       "      <td>NaN</td>\n",
       "      <td>...</td>\n",
       "      <td>NaN</td>\n",
       "      <td>NaN</td>\n",
       "      <td>NaN</td>\n",
       "      <td>NaN</td>\n",
       "      <td>NaN</td>\n",
       "      <td>NaN</td>\n",
       "      <td>NaN</td>\n",
       "      <td>NaN</td>\n",
       "      <td>NaN</td>\n",
       "      <td>NaN</td>\n",
       "    </tr>\n",
       "    <tr>\n",
       "      <th>-3.641073</th>\n",
       "      <td>NaN</td>\n",
       "      <td>NaN</td>\n",
       "      <td>NaN</td>\n",
       "      <td>NaN</td>\n",
       "      <td>NaN</td>\n",
       "      <td>NaN</td>\n",
       "      <td>NaN</td>\n",
       "      <td>NaN</td>\n",
       "      <td>NaN</td>\n",
       "      <td>NaN</td>\n",
       "      <td>...</td>\n",
       "      <td>NaN</td>\n",
       "      <td>NaN</td>\n",
       "      <td>NaN</td>\n",
       "      <td>NaN</td>\n",
       "      <td>NaN</td>\n",
       "      <td>NaN</td>\n",
       "      <td>NaN</td>\n",
       "      <td>NaN</td>\n",
       "      <td>NaN</td>\n",
       "      <td>NaN</td>\n",
       "    </tr>\n",
       "    <tr>\n",
       "      <th>-3.266283</th>\n",
       "      <td>NaN</td>\n",
       "      <td>NaN</td>\n",
       "      <td>NaN</td>\n",
       "      <td>NaN</td>\n",
       "      <td>NaN</td>\n",
       "      <td>NaN</td>\n",
       "      <td>NaN</td>\n",
       "      <td>NaN</td>\n",
       "      <td>NaN</td>\n",
       "      <td>NaN</td>\n",
       "      <td>...</td>\n",
       "      <td>NaN</td>\n",
       "      <td>NaN</td>\n",
       "      <td>NaN</td>\n",
       "      <td>NaN</td>\n",
       "      <td>NaN</td>\n",
       "      <td>NaN</td>\n",
       "      <td>NaN</td>\n",
       "      <td>NaN</td>\n",
       "      <td>NaN</td>\n",
       "      <td>NaN</td>\n",
       "    </tr>\n",
       "    <tr>\n",
       "      <th>-3.162066</th>\n",
       "      <td>NaN</td>\n",
       "      <td>NaN</td>\n",
       "      <td>NaN</td>\n",
       "      <td>NaN</td>\n",
       "      <td>NaN</td>\n",
       "      <td>NaN</td>\n",
       "      <td>-9.999708</td>\n",
       "      <td>NaN</td>\n",
       "      <td>NaN</td>\n",
       "      <td>NaN</td>\n",
       "      <td>...</td>\n",
       "      <td>NaN</td>\n",
       "      <td>NaN</td>\n",
       "      <td>NaN</td>\n",
       "      <td>NaN</td>\n",
       "      <td>NaN</td>\n",
       "      <td>NaN</td>\n",
       "      <td>NaN</td>\n",
       "      <td>NaN</td>\n",
       "      <td>NaN</td>\n",
       "      <td>NaN</td>\n",
       "    </tr>\n",
       "    <tr>\n",
       "      <th>-3.155156</th>\n",
       "      <td>NaN</td>\n",
       "      <td>NaN</td>\n",
       "      <td>NaN</td>\n",
       "      <td>NaN</td>\n",
       "      <td>-10.164034</td>\n",
       "      <td>NaN</td>\n",
       "      <td>NaN</td>\n",
       "      <td>NaN</td>\n",
       "      <td>NaN</td>\n",
       "      <td>NaN</td>\n",
       "      <td>...</td>\n",
       "      <td>NaN</td>\n",
       "      <td>NaN</td>\n",
       "      <td>NaN</td>\n",
       "      <td>NaN</td>\n",
       "      <td>NaN</td>\n",
       "      <td>NaN</td>\n",
       "      <td>NaN</td>\n",
       "      <td>NaN</td>\n",
       "      <td>NaN</td>\n",
       "      <td>NaN</td>\n",
       "    </tr>\n",
       "    <tr>\n",
       "      <th>...</th>\n",
       "      <td>...</td>\n",
       "      <td>...</td>\n",
       "      <td>...</td>\n",
       "      <td>...</td>\n",
       "      <td>...</td>\n",
       "      <td>...</td>\n",
       "      <td>...</td>\n",
       "      <td>...</td>\n",
       "      <td>...</td>\n",
       "      <td>...</td>\n",
       "      <td>...</td>\n",
       "      <td>...</td>\n",
       "      <td>...</td>\n",
       "      <td>...</td>\n",
       "      <td>...</td>\n",
       "      <td>...</td>\n",
       "      <td>...</td>\n",
       "      <td>...</td>\n",
       "      <td>...</td>\n",
       "      <td>...</td>\n",
       "      <td>...</td>\n",
       "    </tr>\n",
       "    <tr>\n",
       "      <th>3.181505</th>\n",
       "      <td>NaN</td>\n",
       "      <td>NaN</td>\n",
       "      <td>NaN</td>\n",
       "      <td>NaN</td>\n",
       "      <td>NaN</td>\n",
       "      <td>NaN</td>\n",
       "      <td>NaN</td>\n",
       "      <td>NaN</td>\n",
       "      <td>NaN</td>\n",
       "      <td>NaN</td>\n",
       "      <td>...</td>\n",
       "      <td>NaN</td>\n",
       "      <td>NaN</td>\n",
       "      <td>NaN</td>\n",
       "      <td>9.726477</td>\n",
       "      <td>NaN</td>\n",
       "      <td>NaN</td>\n",
       "      <td>NaN</td>\n",
       "      <td>NaN</td>\n",
       "      <td>NaN</td>\n",
       "      <td>NaN</td>\n",
       "    </tr>\n",
       "    <tr>\n",
       "      <th>3.231842</th>\n",
       "      <td>NaN</td>\n",
       "      <td>NaN</td>\n",
       "      <td>NaN</td>\n",
       "      <td>NaN</td>\n",
       "      <td>NaN</td>\n",
       "      <td>NaN</td>\n",
       "      <td>NaN</td>\n",
       "      <td>NaN</td>\n",
       "      <td>NaN</td>\n",
       "      <td>NaN</td>\n",
       "      <td>...</td>\n",
       "      <td>NaN</td>\n",
       "      <td>NaN</td>\n",
       "      <td>NaN</td>\n",
       "      <td>NaN</td>\n",
       "      <td>NaN</td>\n",
       "      <td>NaN</td>\n",
       "      <td>NaN</td>\n",
       "      <td>NaN</td>\n",
       "      <td>NaN</td>\n",
       "      <td>NaN</td>\n",
       "    </tr>\n",
       "    <tr>\n",
       "      <th>3.265952</th>\n",
       "      <td>NaN</td>\n",
       "      <td>NaN</td>\n",
       "      <td>NaN</td>\n",
       "      <td>NaN</td>\n",
       "      <td>NaN</td>\n",
       "      <td>NaN</td>\n",
       "      <td>NaN</td>\n",
       "      <td>NaN</td>\n",
       "      <td>NaN</td>\n",
       "      <td>NaN</td>\n",
       "      <td>...</td>\n",
       "      <td>NaN</td>\n",
       "      <td>NaN</td>\n",
       "      <td>NaN</td>\n",
       "      <td>NaN</td>\n",
       "      <td>NaN</td>\n",
       "      <td>NaN</td>\n",
       "      <td>NaN</td>\n",
       "      <td>NaN</td>\n",
       "      <td>12.15276</td>\n",
       "      <td>NaN</td>\n",
       "    </tr>\n",
       "    <tr>\n",
       "      <th>3.273152</th>\n",
       "      <td>NaN</td>\n",
       "      <td>NaN</td>\n",
       "      <td>NaN</td>\n",
       "      <td>NaN</td>\n",
       "      <td>NaN</td>\n",
       "      <td>NaN</td>\n",
       "      <td>NaN</td>\n",
       "      <td>NaN</td>\n",
       "      <td>NaN</td>\n",
       "      <td>NaN</td>\n",
       "      <td>...</td>\n",
       "      <td>NaN</td>\n",
       "      <td>NaN</td>\n",
       "      <td>NaN</td>\n",
       "      <td>NaN</td>\n",
       "      <td>NaN</td>\n",
       "      <td>NaN</td>\n",
       "      <td>NaN</td>\n",
       "      <td>NaN</td>\n",
       "      <td>NaN</td>\n",
       "      <td>12.279487</td>\n",
       "    </tr>\n",
       "    <tr>\n",
       "      <th>3.583412</th>\n",
       "      <td>NaN</td>\n",
       "      <td>NaN</td>\n",
       "      <td>NaN</td>\n",
       "      <td>NaN</td>\n",
       "      <td>NaN</td>\n",
       "      <td>NaN</td>\n",
       "      <td>NaN</td>\n",
       "      <td>NaN</td>\n",
       "      <td>NaN</td>\n",
       "      <td>NaN</td>\n",
       "      <td>...</td>\n",
       "      <td>NaN</td>\n",
       "      <td>NaN</td>\n",
       "      <td>NaN</td>\n",
       "      <td>NaN</td>\n",
       "      <td>NaN</td>\n",
       "      <td>NaN</td>\n",
       "      <td>10.973201</td>\n",
       "      <td>NaN</td>\n",
       "      <td>NaN</td>\n",
       "      <td>NaN</td>\n",
       "    </tr>\n",
       "  </tbody>\n",
       "</table>\n",
       "<p>10000 rows × 10000 columns</p>\n",
       "</div>"
      ],
      "text/plain": [
       "Value 2    -13.892867  -11.327178  -10.474207  -10.180503  -10.164034  \\\n",
       "Value 1                                                                 \n",
       "-3.949464  -13.892867         NaN         NaN         NaN         NaN   \n",
       "-3.641073         NaN         NaN         NaN         NaN         NaN   \n",
       "-3.266283         NaN         NaN         NaN         NaN         NaN   \n",
       "-3.162066         NaN         NaN         NaN         NaN         NaN   \n",
       "-3.155156         NaN         NaN         NaN         NaN  -10.164034   \n",
       "...               ...         ...         ...         ...         ...   \n",
       " 3.181505         NaN         NaN         NaN         NaN         NaN   \n",
       " 3.231842         NaN         NaN         NaN         NaN         NaN   \n",
       " 3.265952         NaN         NaN         NaN         NaN         NaN   \n",
       " 3.273152         NaN         NaN         NaN         NaN         NaN   \n",
       " 3.583412         NaN         NaN         NaN         NaN         NaN   \n",
       "\n",
       "Value 2    -10.144762  -9.999708   -9.798856   -9.624723   -9.544635   ...  \\\n",
       "Value 1                                                                ...   \n",
       "-3.949464         NaN         NaN         NaN         NaN         NaN  ...   \n",
       "-3.641073         NaN         NaN         NaN         NaN         NaN  ...   \n",
       "-3.266283         NaN         NaN         NaN         NaN         NaN  ...   \n",
       "-3.162066         NaN   -9.999708         NaN         NaN         NaN  ...   \n",
       "-3.155156         NaN         NaN         NaN         NaN         NaN  ...   \n",
       "...               ...         ...         ...         ...         ...  ...   \n",
       " 3.181505         NaN         NaN         NaN         NaN         NaN  ...   \n",
       " 3.231842         NaN         NaN         NaN         NaN         NaN  ...   \n",
       " 3.265952         NaN         NaN         NaN         NaN         NaN  ...   \n",
       " 3.273152         NaN         NaN         NaN         NaN         NaN  ...   \n",
       " 3.583412         NaN         NaN         NaN         NaN         NaN  ...   \n",
       "\n",
       "Value 2     9.572446    9.620763    9.685988    9.726477    9.799602   \\\n",
       "Value 1                                                                 \n",
       "-3.949464         NaN         NaN         NaN         NaN         NaN   \n",
       "-3.641073         NaN         NaN         NaN         NaN         NaN   \n",
       "-3.266283         NaN         NaN         NaN         NaN         NaN   \n",
       "-3.162066         NaN         NaN         NaN         NaN         NaN   \n",
       "-3.155156         NaN         NaN         NaN         NaN         NaN   \n",
       "...               ...         ...         ...         ...         ...   \n",
       " 3.181505         NaN         NaN         NaN    9.726477         NaN   \n",
       " 3.231842         NaN         NaN         NaN         NaN         NaN   \n",
       " 3.265952         NaN         NaN         NaN         NaN         NaN   \n",
       " 3.273152         NaN         NaN         NaN         NaN         NaN   \n",
       " 3.583412         NaN         NaN         NaN         NaN         NaN   \n",
       "\n",
       "Value 2     10.180504   10.973201   11.655695   12.152760   12.279487  \n",
       "Value 1                                                                \n",
       "-3.949464         NaN         NaN         NaN         NaN         NaN  \n",
       "-3.641073         NaN         NaN         NaN         NaN         NaN  \n",
       "-3.266283         NaN         NaN         NaN         NaN         NaN  \n",
       "-3.162066         NaN         NaN         NaN         NaN         NaN  \n",
       "-3.155156         NaN         NaN         NaN         NaN         NaN  \n",
       "...               ...         ...         ...         ...         ...  \n",
       " 3.181505         NaN         NaN         NaN         NaN         NaN  \n",
       " 3.231842         NaN         NaN         NaN         NaN         NaN  \n",
       " 3.265952         NaN         NaN         NaN    12.15276         NaN  \n",
       " 3.273152         NaN         NaN         NaN         NaN   12.279487  \n",
       " 3.583412         NaN   10.973201         NaN         NaN         NaN  \n",
       "\n",
       "[10000 rows x 10000 columns]"
      ]
     },
     "execution_count": 39,
     "metadata": {},
     "output_type": "execute_result"
    }
   ],
   "source": [
    "Data_1.pivot(index='Value 1', columns='Value 2', values='Value 2')\n"
   ]
  },
  {
   "cell_type": "code",
   "execution_count": 40,
   "id": "82d42915-7720-4361-83cf-0e83a2d29834",
   "metadata": {},
   "outputs": [
    {
     "data": {
      "text/plain": [
       "0       (-1.439, 1.072]\n",
       "1       (-1.439, 1.072]\n",
       "2       (-1.439, 1.072]\n",
       "3       (-1.439, 1.072]\n",
       "4       (-1.439, 1.072]\n",
       "             ...       \n",
       "9995    (-1.439, 1.072]\n",
       "9996    (-1.439, 1.072]\n",
       "9997     (1.072, 3.583]\n",
       "9998    (-1.439, 1.072]\n",
       "9999    (-1.439, 1.072]\n",
       "Name: Value 1, Length: 10000, dtype: category\n",
       "Categories (3, interval[float64, right]): [(-3.957, -1.439] < (-1.439, 1.072] < (1.072, 3.583]]"
      ]
     },
     "execution_count": 40,
     "metadata": {},
     "output_type": "execute_result"
    }
   ],
   "source": [
    "pd.cut(Data_1['Value 1'], 3)"
   ]
  },
  {
   "cell_type": "markdown",
   "id": "887f85ee",
   "metadata": {},
   "source": [
    "# 3 Plotting"
   ]
  },
  {
   "cell_type": "markdown",
   "id": "b11fb4e0",
   "metadata": {},
   "source": [
    "## 3.1 read a csv data to pandas dataframe (data 2)"
   ]
  },
  {
   "cell_type": "code",
   "execution_count": 41,
   "id": "2a47d7dd-e654-4397-8bd7-9f085da9cdea",
   "metadata": {},
   "outputs": [
    {
     "data": {
      "text/html": [
       "<div>\n",
       "<style scoped>\n",
       "    .dataframe tbody tr th:only-of-type {\n",
       "        vertical-align: middle;\n",
       "    }\n",
       "\n",
       "    .dataframe tbody tr th {\n",
       "        vertical-align: top;\n",
       "    }\n",
       "\n",
       "    .dataframe thead th {\n",
       "        text-align: right;\n",
       "    }\n",
       "</style>\n",
       "<table border=\"1\" class=\"dataframe\">\n",
       "  <thead>\n",
       "    <tr style=\"text-align: right;\">\n",
       "      <th></th>\n",
       "      <th>Value 1</th>\n",
       "      <th>Value 2</th>\n",
       "    </tr>\n",
       "  </thead>\n",
       "  <tbody>\n",
       "    <tr>\n",
       "      <th>0</th>\n",
       "      <td>-6.283185</td>\n",
       "      <td>0.043487</td>\n",
       "    </tr>\n",
       "    <tr>\n",
       "      <th>1</th>\n",
       "      <td>-6.281929</td>\n",
       "      <td>0.084347</td>\n",
       "    </tr>\n",
       "    <tr>\n",
       "      <th>2</th>\n",
       "      <td>-6.280672</td>\n",
       "      <td>-0.028693</td>\n",
       "    </tr>\n",
       "    <tr>\n",
       "      <th>3</th>\n",
       "      <td>-6.279415</td>\n",
       "      <td>0.021445</td>\n",
       "    </tr>\n",
       "    <tr>\n",
       "      <th>4</th>\n",
       "      <td>-6.278158</td>\n",
       "      <td>0.020871</td>\n",
       "    </tr>\n",
       "  </tbody>\n",
       "</table>\n",
       "</div>"
      ],
      "text/plain": [
       "    Value 1   Value 2\n",
       "0 -6.283185  0.043487\n",
       "1 -6.281929  0.084347\n",
       "2 -6.280672 -0.028693\n",
       "3 -6.279415  0.021445\n",
       "4 -6.278158  0.020871"
      ]
     },
     "execution_count": 41,
     "metadata": {},
     "output_type": "execute_result"
    }
   ],
   "source": [
    "Data_2=pd.read_csv('data_2.csv',names=['Value 1','Value 2'])\n",
    "Data_2.head()"
   ]
  },
  {
   "cell_type": "code",
   "execution_count": 51,
   "id": "7151614f",
   "metadata": {},
   "outputs": [
    {
     "data": {
      "text/html": [
       "<div>\n",
       "<style scoped>\n",
       "    .dataframe tbody tr th:only-of-type {\n",
       "        vertical-align: middle;\n",
       "    }\n",
       "\n",
       "    .dataframe tbody tr th {\n",
       "        vertical-align: top;\n",
       "    }\n",
       "\n",
       "    .dataframe thead th {\n",
       "        text-align: right;\n",
       "    }\n",
       "</style>\n",
       "<table border=\"1\" class=\"dataframe\">\n",
       "  <thead>\n",
       "    <tr style=\"text-align: right;\">\n",
       "      <th></th>\n",
       "      <th>Value 1</th>\n",
       "      <th>Value 2</th>\n",
       "    </tr>\n",
       "  </thead>\n",
       "  <tbody>\n",
       "    <tr>\n",
       "      <th>count</th>\n",
       "      <td>1.000000e+04</td>\n",
       "      <td>10000.000000</td>\n",
       "    </tr>\n",
       "    <tr>\n",
       "      <th>mean</th>\n",
       "      <td>4.313883e-16</td>\n",
       "      <td>0.000141</td>\n",
       "    </tr>\n",
       "    <tr>\n",
       "      <th>std</th>\n",
       "      <td>3.628143e+00</td>\n",
       "      <td>0.709152</td>\n",
       "    </tr>\n",
       "    <tr>\n",
       "      <th>min</th>\n",
       "      <td>-6.283185e+00</td>\n",
       "      <td>-1.151122</td>\n",
       "    </tr>\n",
       "    <tr>\n",
       "      <th>25%</th>\n",
       "      <td>-3.141593e+00</td>\n",
       "      <td>-0.704131</td>\n",
       "    </tr>\n",
       "    <tr>\n",
       "      <th>50%</th>\n",
       "      <td>4.440892e-16</td>\n",
       "      <td>-0.002135</td>\n",
       "    </tr>\n",
       "    <tr>\n",
       "      <th>75%</th>\n",
       "      <td>3.141593e+00</td>\n",
       "      <td>0.701588</td>\n",
       "    </tr>\n",
       "    <tr>\n",
       "      <th>max</th>\n",
       "      <td>6.283185e+00</td>\n",
       "      <td>1.145402</td>\n",
       "    </tr>\n",
       "  </tbody>\n",
       "</table>\n",
       "</div>"
      ],
      "text/plain": [
       "            Value 1       Value 2\n",
       "count  1.000000e+04  10000.000000\n",
       "mean   4.313883e-16      0.000141\n",
       "std    3.628143e+00      0.709152\n",
       "min   -6.283185e+00     -1.151122\n",
       "25%   -3.141593e+00     -0.704131\n",
       "50%    4.440892e-16     -0.002135\n",
       "75%    3.141593e+00      0.701588\n",
       "max    6.283185e+00      1.145402"
      ]
     },
     "execution_count": 51,
     "metadata": {},
     "output_type": "execute_result"
    }
   ],
   "source": [
    "Data_2.describe()"
   ]
  },
  {
   "cell_type": "markdown",
   "id": "f7e75b66",
   "metadata": {},
   "source": [
    "## 3.2 plot the above dataset using matplotlib"
   ]
  },
  {
   "cell_type": "code",
   "execution_count": 43,
   "id": "412736a1-1c31-43f2-a6bc-51171934dadb",
   "metadata": {},
   "outputs": [
    {
     "data": {
      "text/plain": [
       "[<matplotlib.lines.Line2D at 0x2656ae3b100>,\n",
       " <matplotlib.lines.Line2D at 0x2656ae3b130>]"
      ]
     },
     "execution_count": 43,
     "metadata": {},
     "output_type": "execute_result"
    },
    {
     "data": {
      "image/png": "[encoded data removed]",
      "text/plain": [
       "<Figure size 432x288 with 1 Axes>"
      ]
     },
     "metadata": {
      "needs_background": "light"
     },
     "output_type": "display_data"
    }
   ],
   "source": [
    "import matplotlib.pyplot as plt\n",
    "plt.plot(Data_2)"
   ]
  },
  {
   "cell_type": "markdown",
   "id": "4afadc8a",
   "metadata": {},
   "source": [
    "## 3.3 load the tips dataset from seaborn"
   ]
  },
  {
   "cell_type": "code",
   "execution_count": 44,
   "id": "c709d128-4edb-485b-bfb6-cfab51f4021e",
   "metadata": {},
   "outputs": [
    {
     "data": {
      "image/png": "[encoded data removed]",
      "text/plain": [
       "<Figure size 432x288 with 1 Axes>"
      ]
     },
     "metadata": {
      "needs_background": "light"
     },
     "output_type": "display_data"
    }
   ],
   "source": [
    "import seaborn as sb\n",
    "sb.lineplot(data=Data_2['Value 1'])\n",
    "sb.set_style(\"dark\")\n",
    "plt.show()"
   ]
  },
  {
   "cell_type": "markdown",
   "id": "a897f23c",
   "metadata": {},
   "source": [
    "## 3.4 plot pairplot, jointplot, catplot, displot, and HeatMap for the above dataset and give your comments on each plot"
   ]
  },
  {
   "cell_type": "code",
   "execution_count": 45,
   "id": "fe027a24-5504-43bc-b7cb-39170e47b685",
   "metadata": {},
   "outputs": [
    {
     "data": {
      "text/plain": [
       "<seaborn.axisgrid.PairGrid at 0x2656ce26f70>"
      ]
     },
     "execution_count": 45,
     "metadata": {},
     "output_type": "execute_result"
    },
    {
     "data": {
      "image/png": "[encoded data removed]",
      "text/plain": [
       "<Figure size 360x360 with 6 Axes>"
      ]
     },
     "metadata": {},
     "output_type": "display_data"
    }
   ],
   "source": [
    "sb.pairplot(Data_2)"
   ]
  },
  {
   "cell_type": "markdown",
   "id": "40c8820c",
   "metadata": {},
   "source": [
    "A pairplot plot a pairwise relationships in a dataset\n",
    "As we can see in describe the both data have min -6.283185e+00 and -1.151122 where as max 6.283185e+00 and 1.145402 respectively.\n",
    "So all 4 plots are 1to1, 1to2, 2to1 and 2to2 values distribution plots."
   ]
  },
  {
   "cell_type": "code",
   "execution_count": 46,
   "id": "3d18cbcb-cdcb-4898-b43e-2f1eeccef280",
   "metadata": {},
   "outputs": [
    {
     "data": {
      "text/plain": [
       "<seaborn.axisgrid.FacetGrid at 0x2656ce7e700>"
      ]
     },
     "execution_count": 46,
     "metadata": {},
     "output_type": "execute_result"
    },
    {
     "data": {
      "image/png": "[encoded data removed]",
      "text/plain": [
       "<Figure size 429.25x360 with 1 Axes>"
      ]
     },
     "metadata": {},
     "output_type": "display_data"
    }
   ],
   "source": [
    "sb.displot(data=Data_2)"
   ]
  },
  {
   "cell_type": "raw",
   "id": "66f8056d",
   "metadata": {},
   "source": [
    "A Distplot depicts the variation in the data distribution\n",
    "These two graphs are also mentioned in pairplot.\n",
    "Which are data distribution for each column."
   ]
  },
  {
   "cell_type": "code",
   "execution_count": 47,
   "id": "842e5be0-e683-455d-a2fa-8ce78a16631c",
   "metadata": {},
   "outputs": [
    {
     "data": {
      "text/plain": [
       "<seaborn.axisgrid.JointGrid at 0x2656d1a7250>"
      ]
     },
     "execution_count": 47,
     "metadata": {},
     "output_type": "execute_result"
    },
    {
     "data": {
      "image/png": "[encoded data removed]",
      "text/plain": [
       "<Figure size 432x432 with 3 Axes>"
      ]
     },
     "metadata": {},
     "output_type": "display_data"
    }
   ],
   "source": [
    "sb.jointplot(data=Data_2)"
   ]
  },
  {
   "cell_type": "raw",
   "id": "cc1ad7a1",
   "metadata": {},
   "source": [
    "one plot displays a bivariate graph : variable(Y) varies with the independent variable(X)\n",
    "second plot shows the distribution of the independent variable(X)\n",
    "third plot shows the distribution of the dependent variable(Y). "
   ]
  },
  {
   "cell_type": "code",
   "execution_count": 48,
   "id": "7be98791-23c7-4162-94ad-b01420e4d3ee",
   "metadata": {},
   "outputs": [
    {
     "data": {
      "text/plain": [
       "<seaborn.axisgrid.FacetGrid at 0x2656d195b50>"
      ]
     },
     "execution_count": 48,
     "metadata": {},
     "output_type": "execute_result"
    },
    {
     "data": {
      "image/png": "[encoded data removed]",
      "text/plain": [
       "<Figure size 360x360 with 1 Axes>"
      ]
     },
     "metadata": {},
     "output_type": "display_data"
    }
   ],
   "source": [
    "sb.catplot(data=Data_2)"
   ]
  },
  {
   "cell_type": "raw",
   "id": "5f65adc6",
   "metadata": {},
   "source": [
    "catplot shows frequencies of the categories of one, two or three categorical variables.\n",
    "This graph can represent the relative data variation for all columns."
   ]
  },
  {
   "cell_type": "code",
   "execution_count": 49,
   "id": "d225a7a8-49b7-47e0-9b38-af8cda9d4159",
   "metadata": {},
   "outputs": [
    {
     "data": {
      "text/plain": [
       "<AxesSubplot:>"
      ]
     },
     "execution_count": 49,
     "metadata": {},
     "output_type": "execute_result"
    },
    {
     "data": {
      "image/png": "[encoded data removed]",
      "text/plain": [
       "<Figure size 432x288 with 2 Axes>"
      ]
     },
     "metadata": {},
     "output_type": "display_data"
    }
   ],
   "source": [
    "sb.heatmap(Data_2)"
   ]
  },
  {
   "cell_type": "raw",
   "id": "b365830b",
   "metadata": {},
   "source": [
    "A heatmap is a graphical representation of data that uses a system of color-coding\n",
    "Right side verticle bar represent color code for each value\n",
    "Value 1 coves all varities from dark to light colours in comparation from values 2."
   ]
  }
 ],
 "metadata": {
  "kernelspec": {
   "display_name": "Python 3 (ipykernel)",
   "language": "python",
   "name": "python3"
  },
  "language_info": {
   "codemirror_mode": {
    "name": "ipython",
    "version": 3
   },
   "file_extension": ".py",
   "mimetype": "text/x-python",
   "name": "python",
   "nbconvert_exporter": "python",
   "pygments_lexer": "ipython3",
   "version": "3.9.7"
  }
 },
 "nbformat": 4,
 "nbformat_minor": 5
}
